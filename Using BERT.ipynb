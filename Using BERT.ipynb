{
  "nbformat": 4,
  "nbformat_minor": 0,
  "metadata": {
    "colab": {
      "name": "Untitled1.ipynb",
      "provenance": [],
      "collapsed_sections": [],
      "toc_visible": true
    },
    "kernelspec": {
      "name": "python3",
      "display_name": "Python 3"
    }
  },
  "cells": [
    {
      "cell_type": "code",
      "metadata": {
        "id": "4Iq6Ni7fL-MY",
        "colab_type": "code",
        "colab": {
          "base_uri": "https://localhost:8080/",
          "height": 411
        },
        "outputId": "78f5fd6c-7a0a-461f-a591-51a7a5c42049"
      },
      "source": [
        "pip install bert-for-tf2"
      ],
      "execution_count": 1,
      "outputs": [
        {
          "output_type": "stream",
          "text": [
            "Collecting bert-for-tf2\n",
            "\u001b[?25l  Downloading https://files.pythonhosted.org/packages/4c/2a/79f44178ac6f5b6995bc7804898fce2654da70e0c5c7f76332748420d6fd/bert-for-tf2-0.13.5.tar.gz (40kB)\n",
            "\r\u001b[K     |████████▏                       | 10kB 19.8MB/s eta 0:00:01\r\u001b[K     |████████████████▎               | 20kB 1.8MB/s eta 0:00:01\r\u001b[K     |████████████████████████▍       | 30kB 2.6MB/s eta 0:00:01\r\u001b[K     |████████████████████████████████| 40kB 2.3MB/s \n",
            "\u001b[?25hCollecting py-params>=0.7.3\n",
            "  Downloading https://files.pythonhosted.org/packages/e1/aa/a143f0193a4fb5c7f8aa816b30366e441ff6ffe6cda4887e4c01300c4b01/py-params-0.8.3.tar.gz\n",
            "Collecting params-flow>=0.7.1\n",
            "  Downloading https://files.pythonhosted.org/packages/0d/12/2604f88932f285a473015a5adabf08496d88dad0f9c1228fab1547ccc9b5/params-flow-0.7.4.tar.gz\n",
            "Requirement already satisfied: numpy in /usr/local/lib/python3.6/dist-packages (from params-flow>=0.7.1->bert-for-tf2) (1.17.5)\n",
            "Requirement already satisfied: tqdm in /usr/local/lib/python3.6/dist-packages (from params-flow>=0.7.1->bert-for-tf2) (4.28.1)\n",
            "Building wheels for collected packages: bert-for-tf2, py-params, params-flow\n",
            "  Building wheel for bert-for-tf2 (setup.py) ... \u001b[?25l\u001b[?25hdone\n",
            "  Created wheel for bert-for-tf2: filename=bert_for_tf2-0.13.5-cp36-none-any.whl size=29948 sha256=6a6fbf00044679946a27346b0723827e19f8c418d52f0198c00d04c8b9418aca\n",
            "  Stored in directory: /root/.cache/pip/wheels/ed/11/48/86aff8a0442aa4728c921027a4100ac28878e9d977e76e2d52\n",
            "  Building wheel for py-params (setup.py) ... \u001b[?25l\u001b[?25hdone\n",
            "  Created wheel for py-params: filename=py_params-0.8.3-cp36-none-any.whl size=4690 sha256=6bb2c1b94ca4528e6bcd28a545fbe5f52e2196c28ea5fce48b3e43e69a0f2514\n",
            "  Stored in directory: /root/.cache/pip/wheels/1a/98/f8/502fc6b5a7c969276f611efeef0d074c871092d38672203b27\n",
            "  Building wheel for params-flow (setup.py) ... \u001b[?25l\u001b[?25hdone\n",
            "  Created wheel for params-flow: filename=params_flow-0.7.4-cp36-none-any.whl size=16195 sha256=547869178000dc99db32d57a38a1d098b5f07e8714111aa05e3eefd2ae42ae63\n",
            "  Stored in directory: /root/.cache/pip/wheels/86/30/40/507b60d68b67ac87f35e95c98f5b296a32f146d5ae1d1d5aa7\n",
            "Successfully built bert-for-tf2 py-params params-flow\n",
            "Installing collected packages: py-params, params-flow, bert-for-tf2\n",
            "Successfully installed bert-for-tf2-0.13.5 params-flow-0.7.4 py-params-0.8.3\n"
          ],
          "name": "stdout"
        }
      ]
    },
    {
      "cell_type": "code",
      "metadata": {
        "id": "ho68I8R1MdNl",
        "colab_type": "code",
        "colab": {
          "base_uri": "https://localhost:8080/",
          "height": 122
        },
        "outputId": "1f43b52a-54c7-4f40-8f3f-e9edfe6fb271"
      },
      "source": [
        "pip install sentencepiece"
      ],
      "execution_count": 4,
      "outputs": [
        {
          "output_type": "stream",
          "text": [
            "Collecting sentencepiece\n",
            "\u001b[?25l  Downloading https://files.pythonhosted.org/packages/74/f4/2d5214cbf13d06e7cb2c20d84115ca25b53ea76fa1f0ade0e3c9749de214/sentencepiece-0.1.85-cp36-cp36m-manylinux1_x86_64.whl (1.0MB)\n",
            "\u001b[K     |████████████████████████████████| 1.0MB 2.8MB/s \n",
            "\u001b[?25hInstalling collected packages: sentencepiece\n",
            "Successfully installed sentencepiece-0.1.85\n"
          ],
          "name": "stdout"
        }
      ]
    },
    {
      "cell_type": "markdown",
      "metadata": {
        "id": "Xbohn1BLmQpR",
        "colab_type": "text"
      },
      "source": [
        ""
      ]
    },
    {
      "cell_type": "code",
      "metadata": {
        "id": "kLkq1Of5NGxo",
        "colab_type": "code",
        "colab": {}
      },
      "source": [
        "import bert\n",
        "\n",
        "model_dir = \"./uncased_L-12_H-768_A-12\"\n",
        "\n",
        "bert_params = bert.params_from_pretrained_ckpt(model_dir)\n",
        "l_bert = bert.BertModelLayer.from_params(bert_params, name=\"bert\")"
      ],
      "execution_count": 0,
      "outputs": []
    },
    {
      "cell_type": "code",
      "metadata": {
        "id": "jCMyx8EWY1k4",
        "colab_type": "code",
        "colab": {
          "base_uri": "https://localhost:8080/",
          "height": 51
        },
        "outputId": "925169b3-7229-4896-a7ad-33c60ae0d38f"
      },
      "source": [
        "import os\n",
        "model_name = \"uncased_L-12_H-768_A-12\"\n",
        "model_dir = bert.fetch_google_bert_model(model_name, \".models\")\n",
        "model_ckpt = os.path.join(model_dir, \"bert_model.ckpt\")"
      ],
      "execution_count": 22,
      "outputs": [
        {
          "output_type": "stream",
          "text": [
            "Already  fetched:  uncased_L-12_H-768_A-12.zip\n",
            "already unpacked at: .models/uncased_L-12_H-768_A-12\n"
          ],
          "name": "stdout"
        }
      ]
    },
    {
      "cell_type": "code",
      "metadata": {
        "id": "ezgscPklY-wI",
        "colab_type": "code",
        "colab": {}
      },
      "source": [
        "bert_params = bert.params_from_pretrained_ckpt(model_dir)\n",
        "l_bert = bert.BertModelLayer.from_params(bert_params, name=\"bert\")\n"
      ],
      "execution_count": 0,
      "outputs": []
    },
    {
      "cell_type": "code",
      "metadata": {
        "id": "mtQRLqRAZZRG",
        "colab_type": "code",
        "colab": {}
      },
      "source": [
        "from tensorflow import keras\n",
        "\n",
        "max_seq_len = 128\n",
        "l_input_ids      = keras.layers.Input(shape=(max_seq_len,), dtype='int32')\n",
        "l_token_type_ids = keras.layers.Input(shape=(max_seq_len,), dtype='int32')\n",
        "\n",
        "# using the default token_type/segment id 0\n",
        "output = l_bert(l_input_ids)                              # output: [batch_size, max_seq_len, hidden_size]\n",
        "model = keras.Model(inputs=l_input_ids, outputs=output)\n",
        "model.build(input_shape=(None, max_seq_len))\n"
      ],
      "execution_count": 0,
      "outputs": []
    },
    {
      "cell_type": "code",
      "metadata": {
        "id": "m9b2OnvgZCvi",
        "colab_type": "code",
        "colab": {}
      },
      "source": [
        "bert.load_bert_weights(l_bert, model_ckpt)"
      ],
      "execution_count": 0,
      "outputs": []
    },
    {
      "cell_type": "code",
      "metadata": {
        "id": "udxur9nMZdQl",
        "colab_type": "code",
        "colab": {
          "base_uri": "https://localhost:8080/",
          "height": 221
        },
        "outputId": "53ad835b-2d0c-4414-f466-e0e822e731e6"
      },
      "source": [
        "model.summary()"
      ],
      "execution_count": 25,
      "outputs": [
        {
          "output_type": "stream",
          "text": [
            "Model: \"model_4\"\n",
            "_________________________________________________________________\n",
            "Layer (type)                 Output Shape              Param #   \n",
            "=================================================================\n",
            "input_13 (InputLayer)        [(None, 128)]             0         \n",
            "_________________________________________________________________\n",
            "bert (BertModelLayer)        (None, 128, 768)          108890112 \n",
            "=================================================================\n",
            "Total params: 108,890,112\n",
            "Trainable params: 108,890,112\n",
            "Non-trainable params: 0\n",
            "_________________________________________________________________\n"
          ],
          "name": "stdout"
        }
      ]
    },
    {
      "cell_type": "code",
      "metadata": {
        "id": "uH9cLeLHkHty",
        "colab_type": "code",
        "colab": {}
      },
      "source": [
        "import numpy as np\n",
        "from bert import bert_tokenization\n",
        "tokenizer = bert_tokenization.FullTokenizer(vocab_file=os.path.join(model_dir, \"vocab.txt\"), do_lower_case=True)"
      ],
      "execution_count": 0,
      "outputs": []
    },
    {
      "cell_type": "code",
      "metadata": {
        "id": "pa5uxjLuZDkn",
        "colab_type": "code",
        "colab": {
          "base_uri": "https://localhost:8080/",
          "height": 272
        },
        "outputId": "b92357cf-ab06-4c50-ae93-49528da65484"
      },
      "source": [
        "# prepare input\n",
        "        max_seq_len  = 128\n",
        "        input_str    = \"hello, bert!\"\n",
        "        input_tokens = tokenizer.tokenize(input_str)\n",
        "        input_tokens = [\"[CLS]\"] + input_tokens + [\"[SEP]\"]\n",
        "        input_ids    = tokenizer.convert_tokens_to_ids(input_tokens)\n",
        "        input_ids      = input_ids             + [0]*(max_seq_len - len(input_tokens))\n",
        "        input_mask     = [0]*len(input_tokens) + [0]*(max_seq_len - len(input_tokens)) # FIXME: input_mask broken - chane to [1]*\n",
        "        token_type_ids = [0]*len(input_tokens) + [0]*(max_seq_len - len(input_tokens))\n",
        "\n",
        "        input_ids      = np.array([input_ids], dtype=np.int32)\n",
        "        input_mask     = np.array([input_mask], dtype=np.int32)\n",
        "        token_type_ids = np.array([token_type_ids], dtype=np.int32)\n",
        "\n",
        "        print(\"   tokens:\", input_tokens)\n",
        "        print(\"input_ids:{}/{}:{}\".format(len(input_tokens), max_seq_len, input_ids), input_ids.shape, token_type_ids)"
      ],
      "execution_count": 34,
      "outputs": [
        {
          "output_type": "stream",
          "text": [
            "   tokens: ['[CLS]', 'hello', ',', 'bert', '!', '[SEP]']\n",
            "input_ids:6/128:[[  101  7592  1010 14324   999   102     0     0     0     0     0     0\n",
            "      0     0     0     0     0     0     0     0     0     0     0     0\n",
            "      0     0     0     0     0     0     0     0     0     0     0     0\n",
            "      0     0     0     0     0     0     0     0     0     0     0     0\n",
            "      0     0     0     0     0     0     0     0     0     0     0     0\n",
            "      0     0     0     0     0     0     0     0     0     0     0     0\n",
            "      0     0     0     0     0     0     0     0     0     0     0     0\n",
            "      0     0     0     0     0     0     0     0     0     0     0     0\n",
            "      0     0     0     0     0     0     0     0     0     0     0     0\n",
            "      0     0     0     0     0     0     0     0     0     0     0     0\n",
            "      0     0     0     0     0     0     0     0]] (1, 128) [[0 0 0 0 0 0 0 0 0 0 0 0 0 0 0 0 0 0 0 0 0 0 0 0 0 0 0 0 0 0 0 0 0 0 0 0\n",
            "  0 0 0 0 0 0 0 0 0 0 0 0 0 0 0 0 0 0 0 0 0 0 0 0 0 0 0 0 0 0 0 0 0 0 0 0\n",
            "  0 0 0 0 0 0 0 0 0 0 0 0 0 0 0 0 0 0 0 0 0 0 0 0 0 0 0 0 0 0 0 0 0 0 0 0\n",
            "  0 0 0 0 0 0 0 0 0 0 0 0 0 0 0 0 0 0 0 0]]\n"
          ],
          "name": "stdout"
        }
      ]
    },
    {
      "cell_type": "code",
      "metadata": {
        "id": "wkOdJMFzkGg6",
        "colab_type": "code",
        "colab": {
          "base_uri": "https://localhost:8080/",
          "height": 34
        },
        "outputId": "7c6a1da7-59a8-4809-ec29-98158e56139b"
      },
      "source": [
        "pres = model.predict([input_ids, token_type_ids])  # just for fetching the shape of the output\n",
        "print(\"pres:\", pres.shape)"
      ],
      "execution_count": 35,
      "outputs": [
        {
          "output_type": "stream",
          "text": [
            "pres: (1, 128, 768)\n"
          ],
          "name": "stdout"
        }
      ]
    }
  ]
}